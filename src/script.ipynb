{
 "cells": [
  {
   "cell_type": "markdown",
   "metadata": {
    "_cell_guid": "1bc74aa1-b9e7-43df-a128-2fd053a2f57a",
    "_uuid": "af970460c50b015f8d624d2566f0fe2545f0cf37"
   },
   "source": [
    "# About\n",
    "\n",
    "This notebook is a basic example for looking at individual events, creating a solution and submitting it. It walks through some of the library function for accessing the data and writing a submission file. This example uses the Hough transform to solve the tracking problem."
   ]
  },
  {
   "cell_type": "code",
   "execution_count": null,
   "metadata": {
    "_cell_guid": "16647aab-9afa-4213-a696-894f62b44de2",
    "_uuid": "f33a9129cc0f5d8366115ee14e857bb6819fe87b",
    "collapsed": true
   },
   "outputs": [],
   "source": [
    "%matplotlib inline\n",
    "import matplotlib.pyplot as plt\n",
    "import numpy as np\n",
    "import pandas as pd\n",
    "import os\n",
    "\n",
    "from trackml.dataset import load_event, load_dataset\n",
    "from trackml.score import score_event"
   ]
  },
  {
   "cell_type": "code",
   "execution_count": null,
   "metadata": {
    "_cell_guid": "809cc7fc-24f6-47fa-9809-56d83bf8271b",
    "_uuid": "d9102d8d2aee464a3c4c7cce8078d15f035e43f9",
    "collapsed": true
   },
   "outputs": [],
   "source": [
    "path_to_train = \"../input/train_1\""
   ]
  },
  {
   "cell_type": "markdown",
   "metadata": {
    "_cell_guid": "5d941cb1-5adf-488d-9fb0-2ee2da3508f5",
    "_uuid": "e6c6af42e9eccc762138e24b3320ae678a6a95ba"
   },
   "source": [
    "# Working on a single event"
   ]
  },
  {
   "cell_type": "code",
   "execution_count": null,
   "metadata": {
    "_cell_guid": "13d6f575-7784-4edb-93fc-9de822be01c1",
    "_uuid": "e6d88f5478f775a6c807f773ac601729ee954078",
    "collapsed": true
   },
   "outputs": [],
   "source": [
    "event_prefix = \"event000001000\""
   ]
  },
  {
   "cell_type": "markdown",
   "metadata": {
    "_cell_guid": "9bc7ab7f-75dc-4643-8ea8-c1694fc7f255",
    "_uuid": "5024d69eacc243518bca9dc8d5b995aaae97819c"
   },
   "source": [
    "## Read and look"
   ]
  },
  {
   "cell_type": "code",
   "execution_count": null,
   "metadata": {
    "_cell_guid": "09661915-0e7c-40cf-8476-59a04c9ef929",
    "_uuid": "a5b1885d4a6d1d4da25996d97aa8a56a744e78f4",
    "collapsed": true
   },
   "outputs": [],
   "source": [
    "hits, cells, particles, truth = load_event(os.path.join(path_to_train, event_prefix))"
   ]
  },
  {
   "cell_type": "code",
   "execution_count": null,
   "metadata": {
    "_cell_guid": "f4b9bb95-5eb2-46fb-b231-303666134c52",
    "_uuid": "1f8ce069bd84f9522371bdc1cc13e74c8df74a80",
    "collapsed": true
   },
   "outputs": [],
   "source": [
    "hits.head()"
   ]
  },
  {
   "cell_type": "markdown",
   "metadata": {
    "_cell_guid": "93ce58fc-e7b9-4ef3-a2dc-230742dc234e",
    "_uuid": "1126521a2f8376b216f895cd0112a575e6dfa588"
   },
   "source": [
    "## Identify tracks\n",
    "\n",
    "### Hough Transform\n",
    "\n",
    "Consider a track pattern recognition method using the Hough Transform in polar system. In this system a circular track can be parametrized as follow:\n",
    "\n",
    "$$\n",
    "r = 2r_{0}Cos(\\phi - \\theta)\n",
    "$$\n",
    "\n",
    "where:\n",
    "* $r$ and $\\phi$ : are coordinates of a hit in the polar system.\n",
    "* $r_{0}$ and $\\theta$ : are coordinates of a center of a circular track in the polar system.\n",
    "\n",
    "A linear track corresponds to the $r_{0} = \\infty$.\n",
    "\n",
    "Transformation of cartesian coordinates of a hit to polar coordinates defined as:\n",
    "\n",
    "$$\n",
    "\\phi = arctan(\\frac{y}{x})\n",
    "$$\n",
    "$$\n",
    "r = \\sqrt{x^{2} + y^{2}}\n",
    "$$\n",
    "\n",
    "\n",
    "The Hough Transform converts a hit in $(r, \\phi)$ space to a curve in $(\\frac{1}{r_{0}}, \\theta)$ space of the track parameters as follow:\n",
    "\n",
    "$$\n",
    "\\frac{1}{r_{0}} = \\frac{2Cos(\\phi - \\theta)}{r}\n",
    "$$\n",
    "\n",
    "A linear track in this space represents as $(0, \\theta)$ point.\n",
    "\n",
    "\n",
    "\n",
    "however, there are 3 dimensions: x, y, z. Thus, the track pattern recognition will be performed in cylindrical coordinate systems: $\\phi$, r, z. For the simplicity (but you can create your own parameter) we suppose that for 3D tracks:\n",
    "\n",
    "$$\n",
    "\\gamma=\\frac{z}{r}=const\n",
    "$$\n",
    "\n",
    "which is true for high-PT tracks.\n",
    "\n",
    "This section demonstrates the track pattern recognition method using Hough Transfrom described above and histogramming technique. In this technique each 'hot' bin represents one recognized track as it is shown in the figure:\n",
    "\n",
    "![hough.png](attachment:hough.png)\n",
    "\n",
    "To assign only one track lable to a hit, only bins with the highest number of hits are selected. But there is one additional requirement for the bins: these bins must not share hits. Please, look the method script for details."
   ]
  },
  {
   "cell_type": "code",
   "execution_count": null,
   "metadata": {
    "_cell_guid": "eb7dd629-8b33-4ffa-9827-2edde2e2cb48",
    "_uuid": "9055e4033de48ec84f584cef1c95c9e78a704b7c",
    "collapsed": true
   },
   "outputs": [],
   "source": [
    "def cartesian_to_cylindrical(x, y, z):\n",
    "    \n",
    "    r = np.sqrt(x**2 + y**2)\n",
    "    phi = np.arctan2(y, x)\n",
    "    z = z\n",
    "    \n",
    "    return r, phi, z\n",
    "\n",
    "\n",
    "def create_hough_matrix(hits):\n",
    "    \n",
    "    hough_matrix = hits[['hit_id', 'x', 'y', 'z']].copy()\n",
    "    hough_matrix.columns = ['HitID', 'X', 'Y', 'Z']\n",
    "    \n",
    "    r, phi, z = cartesian_to_cylindrical(hough_matrix['X'].values, \n",
    "                                         hough_matrix['Y'].values, \n",
    "                                         hough_matrix['Z'].values)\n",
    "\n",
    "    hough_matrix['R'] = r\n",
    "    hough_matrix['Phi'] = phi\n",
    "    \n",
    "    return hough_matrix\n",
    "\n",
    "\n",
    "def add_theta(hough_matrix, theta):\n",
    "    hough_matrix['Theta'] = theta\n",
    "    return hough_matrix\n",
    "\n",
    "def add_r0_inv(hough_matrix):\n",
    "    hough_matrix['R0Inv'] = (2. * np.cos(hough_matrix['Phi'] - hough_matrix['Theta']) / hough_matrix['R']).values\n",
    "    return hough_matrix\n",
    "\n",
    "def add_gamma(hough_matrix):\n",
    "    hough_matrix['Gamma'] = hough_matrix['Z']/hough_matrix['R']\n",
    "    return hough_matrix\n",
    "\n",
    "\n",
    "def digitize_column(hough_matrix, col, N, min_val=None, max_val=None):\n",
    "    \n",
    "    x = hough_matrix[col].values\n",
    "    if min_val is not None and max_val is not None:\n",
    "        bins = np.linspace(min_val, max_val, N)\n",
    "    else:\n",
    "        bins = np.linspace(x.min(), x.max(), N)\n",
    "    bin_ids = np.digitize(x, bins)\n",
    "    hough_matrix[col+'Digi'] = bin_ids\n",
    "    \n",
    "    return hough_matrix\n",
    "\n",
    "\n",
    "def combine_digi(hough_matrix, columns):\n",
    "    \n",
    "    hough_matrix['ComboDigi'] = np.zeros(len(hough_matrix))\n",
    "    \n",
    "    for i_col, acol in enumerate(columns):\n",
    "        digi = hough_matrix[acol]\n",
    "        hough_matrix['ComboDigi'] += digi * 10**(i_col * 5)\n",
    "    \n",
    "    return hough_matrix\n",
    "\n",
    "\n",
    "def count_combo_digi(hough_matrix):\n",
    "    \n",
    "    unique, indeces, counts = np.unique(hough_matrix['ComboDigi'].values, \n",
    "                                     return_counts=True, return_inverse=True)\n",
    "    hough_matrix['ComboDigiCounts'] = counts[indeces]\n",
    "    \n",
    "    return hough_matrix\n",
    "\n",
    "def out_of_border_counters_to_zero(hough_matrix, col, N):\n",
    "    hough_matrix['ComboDigiCounts'] *= (hough_matrix[col].values != 0) * (hough_matrix[col].values != N)\n",
    "    return hough_matrix\n",
    "\n",
    "def one_slice(hough_matrix, theta, N_bins_r0inv, N_bins_gamma, min_hits):\n",
    "        \n",
    "    tracks = []\n",
    "    \n",
    "    hough_matrix = add_theta(hough_matrix, theta)\n",
    "    hough_matrix = add_r0_inv(hough_matrix)\n",
    "    hough_matrix = add_gamma(hough_matrix)\n",
    "\n",
    "    hough_matrix = digitize_column(hough_matrix, 'R0Inv', N_bins_r0inv, -0.02, 0.02) # Tune it.\n",
    "    hough_matrix = digitize_column(hough_matrix, 'Gamma', N_bins_gamma, -50, 50) # Tune it.\n",
    "\n",
    "    hough_matrix = combine_digi(hough_matrix, ['R0InvDigi', 'GammaDigi'])\n",
    "    hough_matrix = count_combo_digi(hough_matrix)\n",
    "\n",
    "    hough_matrix = out_of_border_counters_to_zero(hough_matrix, 'R0InvDigi', N_bins_r0inv)\n",
    "    hough_matrix = out_of_border_counters_to_zero(hough_matrix, 'GammaDigi', N_bins_gamma)\n",
    "    \n",
    "    counts = hough_matrix.ComboDigiCounts.values\n",
    "    bins = hough_matrix.ComboDigi.values\n",
    "    hit_ids = np.arange(len(hough_matrix))\n",
    "    for abin in np.unique(bins[counts >= min_hits]):\n",
    "        atrack = hit_ids[(bins == abin)]\n",
    "        tracks.append(atrack)\n",
    "        \n",
    "    return tracks, hough_matrix\n",
    "\n",
    "\n",
    "\n",
    "\n",
    "class Clusterer(object):\n",
    "    \n",
    "    def __init__(self, N_bins_r0inv, N_bins_gamma, N_theta, min_hits):\n",
    "        \n",
    "        self.N_bins_r0inv = N_bins_r0inv \n",
    "        self.N_bins_gamma = N_bins_gamma\n",
    "        self.N_theta = N_theta\n",
    "        self.min_hits = min_hits\n",
    "    \n",
    "    def predict(self, hits):\n",
    "        \n",
    "        tracks = []\n",
    "\n",
    "        hough_matrix = create_hough_matrix(hits)\n",
    "        for theta in np.linspace(-np.pi, np.pi, self.N_theta):\n",
    "            slice_tracks, hough_matrix = one_slice(hough_matrix, theta, self.N_bins_r0inv, self.N_bins_gamma, self.min_hits)\n",
    "            tracks += list(slice_tracks)\n",
    "\n",
    "        labels = np.zeros(len(hits))\n",
    "        used = np.zeros(len(hits))\n",
    "        track_id = 0\n",
    "        for atrack in tracks:\n",
    "            u_track = atrack[used[atrack] == 0]\n",
    "            if len(u_track) >= self.min_hits:\n",
    "                labels[u_track] = track_id\n",
    "                used[u_track] = 1\n",
    "                track_id += 1\n",
    "            \n",
    "        return labels"
   ]
  },
  {
   "cell_type": "code",
   "execution_count": null,
   "metadata": {
    "_cell_guid": "8c0c0c64-a5bc-4f4a-9e8c-ec29762c3627",
    "_uuid": "bea0436b431edad5b33e9974a74a82915eb0b2a0",
    "collapsed": true
   },
   "outputs": [],
   "source": [
    "%%time\n",
    "# Warning: it takes about 100s per one event.\n",
    "\n",
    "model = Clusterer(N_bins_r0inv=200, N_bins_gamma=500, N_theta=500, min_hits=9)\n",
    "labels = model.predict(hits)"
   ]
  },
  {
   "cell_type": "markdown",
   "metadata": {
    "_cell_guid": "4666ffb9-ad73-495e-a576-156f3e15f66c",
    "_uuid": "06a69c3a209539361b091b54f09e611524ba9fdf"
   },
   "source": [
    "## Score\n",
    "\n",
    "Compute the score for this event. The dummy submission output of create_one_event_submission  is created only to be the second parameter of the score_event function. It should not be confused with a well-behaved submission for the test set. ."
   ]
  },
  {
   "cell_type": "code",
   "execution_count": null,
   "metadata": {
    "_cell_guid": "b965aa18-af14-4e00-bae2-256b12b14276",
    "_uuid": "4f805ff897b36fac375740a73a877361ce69668f",
    "collapsed": true
   },
   "outputs": [],
   "source": [
    "def create_one_event_submission(event_id, hits, labels):\n",
    "    sub_data = np.column_stack(([event_id]*len(hits), hits.hit_id.values, labels))\n",
    "    submission = pd.DataFrame(data=sub_data, columns=[\"event_id\", \"hit_id\", \"track_id\"]).astype(int)\n",
    "    return submission"
   ]
  },
  {
   "cell_type": "code",
   "execution_count": null,
   "metadata": {
    "_cell_guid": "1858a38b-578f-4a55-839b-3476e1c5b930",
    "_uuid": "604c4f7bf5ac9cf2218fdcc69aff41215519663f",
    "collapsed": true
   },
   "outputs": [],
   "source": [
    "submission = create_one_event_submission(0, hits, labels)\n",
    "score = score_event(truth, submission)"
   ]
  },
  {
   "cell_type": "code",
   "execution_count": null,
   "metadata": {
    "_cell_guid": "c5620790-6b19-4b66-8f84-8b084a3f8efa",
    "_uuid": "5a2aeade4ce7f3aa86bcee5b0329b786cba4e4b1",
    "collapsed": true
   },
   "outputs": [],
   "source": [
    "print(\"Your score: \", score)"
   ]
  },
  {
   "cell_type": "markdown",
   "metadata": {
    "_cell_guid": "04f0df8e-47e5-40b8-b8f2-51c05e1e265c",
    "_uuid": "1affd49eabfbc0dae4f94d77227410db0012ab82"
   },
   "source": [
    "# Recognize tracks in all events of a dataset\n",
    "In this example, the dataset is the whole training set.\n",
    "This is a simple loop over the one-event actions: because of  there is no actual training.\n",
    "This may take a very long time. To run on only a subset, use e.g.\n",
    "\n",
    "     load_dataset(path_to_train, skip=1000, nevents=5)\n",
    "\n",
    "It will skip the first 1000 events, and select the next 5 ones.\n",
    "\n",
    "**Warning:** it takes about 100s per one event."
   ]
  },
  {
   "cell_type": "code",
   "execution_count": null,
   "metadata": {
    "_cell_guid": "148db502-816b-4f66-8e83-b6878e334611",
    "_uuid": "8d30b5fa0ce4603e8e1575bc484df3a4901b6f1d",
    "collapsed": true
   },
   "outputs": [],
   "source": [
    "dataset_submissions = []\n",
    "dataset_scores = []\n",
    "\n",
    "for event_id, hits, cells, particles, truth in load_dataset(path_to_train, skip=0, nevents=5):\n",
    "        \n",
    "    # Track pattern recognition\n",
    "    model = Clusterer(N_bins_r0inv=200, N_bins_gamma=500, N_theta=500, min_hits=9)\n",
    "    labels = model.predict(hits)\n",
    "        \n",
    "    # Prepare submission for an event\n",
    "    one_submission = create_one_event_submission(event_id, hits, labels)\n",
    "    dataset_submissions.append(one_submission)\n",
    "    \n",
    "    # Score for the event\n",
    "    score = score_event(truth, one_submission)\n",
    "    dataset_scores.append(score)\n",
    "    \n",
    "    print(\"Score for event %d: %.3f\" % (event_id, score))\n",
    "    \n",
    "print('Mean score: %.3f' % (np.mean(dataset_scores)))"
   ]
  },
  {
   "cell_type": "markdown",
   "metadata": {
    "_cell_guid": "95840d70-720a-4c34-bdde-bce95ec94538",
    "_uuid": "1fc997d0890c90cf45e110b3911ec9beae9c9383"
   },
   "source": [
    "# Create a submission\n",
    "\n",
    "Recognize tracks in all events of the test dataset and create a submission file.\n",
    "\n",
    "**Warning:** it takes about 100s per one event."
   ]
  },
  {
   "cell_type": "code",
   "execution_count": null,
   "metadata": {
    "_cell_guid": "b01e1897-1fcd-4811-a5e5-685cd1d3aab4",
    "_uuid": "d27bb12c1fbb28aca64bf61a3bf10b4169ddd6a2",
    "collapsed": true
   },
   "outputs": [],
   "source": [
    "path_to_test = \"../input/test\"\n",
    "test_dataset_submissions = []\n",
    "\n",
    "create_submission = False # True for submission \n",
    "\n",
    "if create_submission:\n",
    "    for event_id, hits, cells in load_dataset(path_to_test, parts=['hits', 'cells']):\n",
    "\n",
    "        # Track pattern recognition\n",
    "        model = Clusterer(N_bins_r0inv=200, N_bins_gamma=500, N_theta=500, min_hits=9)\n",
    "        labels = model.predict(hits)\n",
    "\n",
    "        # Prepare submission for an event\n",
    "        one_submission = create_one_event_submission(event_id, hits, labels)\n",
    "        test_dataset_submissions.append(one_submission)\n",
    "        \n",
    "        print('Event ID: ', event_id)\n",
    "\n",
    "    # Create submission file\n",
    "    submission = pd.concat(test_dataset_submissions, axis=0)\n",
    "    submission.to_csv('submission.csv.gz', index=False, compression='gzip')"
   ]
  },
  {
   "cell_type": "code",
   "execution_count": null,
   "metadata": {
    "_cell_guid": "e904efa3-7fc1-42ea-98b3-82d5011c93d8",
    "_uuid": "76f025c469e5964a6388dc138fafb3f875afdfad",
    "collapsed": true
   },
   "outputs": [],
   "source": []
  }
 ],
 "metadata": {
  "kernelspec": {
   "display_name": "Python 3",
   "language": "python",
   "name": "python3"
  },
  "language_info": {
   "codemirror_mode": {
    "name": "ipython",
    "version": 3
   },
   "file_extension": ".py",
   "mimetype": "text/x-python",
   "name": "python",
   "nbconvert_exporter": "python",
   "pygments_lexer": "ipython3",
   "version": "3.6.5"
  },
  "toc": {
   "nav_menu": {},
   "number_sections": false,
   "sideBar": true,
   "skip_h1_title": false,
   "toc_cell": false,
   "toc_position": {},
   "toc_section_display": "block",
   "toc_window_display": false
  }
 },
 "nbformat": 4,
 "nbformat_minor": 1
}
